{
 "cells": [
  {
   "cell_type": "code",
   "execution_count": 2,
   "id": "f4a0a150",
   "metadata": {},
   "outputs": [
    {
     "name": "stdout",
     "output_type": "stream",
     "text": [
      "L1 norm:\n",
      "4.800000000000001\n",
      "1.4\n",
      "3.6\n",
      "L2 norm:\n",
      "3.7416573867739418\n",
      "1.0\n",
      "2.4494897427831783\n",
      "Linf norm:\n",
      "3.6000000000000005\n",
      "0.8\n",
      "2.2\n"
     ]
    }
   ],
   "source": [
    "import numpy as np\n",
    "\n",
    "# Create a 3x3 orthogonal matrix\n",
    "Q = np.array([[1, 0, 0],\n",
    "              [0, 0.6, 0.8],\n",
    "              [0, -0.8, 0.6]])\n",
    "\n",
    "# Create some random vectors\n",
    "v1 = np.array([1, 2, 3])\n",
    "v2 = np.array([0, 1, 0])\n",
    "v3 = np.array([-1, 1, 2])\n",
    "\n",
    "# Project the vectors onto the orthogonal matrix\n",
    "p1 = Q.dot(v1)\n",
    "p2 = Q.dot(v2)\n",
    "p3 = Q.dot(v3)\n",
    "\n",
    "# Calculate the L1, L2, and Linf norms of the projected vectors\n",
    "print(\"L1 norm:\")\n",
    "print(np.linalg.norm(p1, ord=1))\n",
    "print(np.linalg.norm(p2, ord=1))\n",
    "print(np.linalg.norm(p3, ord=1))\n",
    "\n",
    "print(\"L2 norm:\")\n",
    "print(np.linalg.norm(p1, ord=2))\n",
    "print(np.linalg.norm(p2, ord=2))\n",
    "print(np.linalg.norm(p3, ord=2))\n",
    "\n",
    "print(\"Linf norm:\")\n",
    "print(np.linalg.norm(p1, ord=np.inf))\n",
    "print(np.linalg.norm(p2, ord=np.inf))\n",
    "print(np.linalg.norm(p3, ord=np.inf))"
   ]
  },
  {
   "cell_type": "code",
   "execution_count": 3,
   "id": "b8ae5d1c",
   "metadata": {},
   "outputs": [
    {
     "name": "stdout",
     "output_type": "stream",
     "text": [
      "L1 norm:\n",
      "6.0480284443860155\n",
      "1.3535280287602864\n",
      "2.82213751577679\n",
      "L2 norm:\n",
      "3.7416573867739418\n",
      "1.0\n",
      "2.4494897427831783\n",
      "Linf norm:\n",
      "2.640342134218673\n",
      "0.8908004688868597\n",
      "2.4311557581267604\n"
     ]
    }
   ],
   "source": [
    "import numpy as np\n",
    "\n",
    "# Create a 3x3 orthonormal matrix\n",
    "Q, _ = np.linalg.qr(np.random.rand(3, 3))\n",
    "\n",
    "# Create some random vectors\n",
    "v1 = np.array([1, 2, 3])\n",
    "v2 = np.array([0, 1, 0])\n",
    "v3 = np.array([-1, 1, 2])\n",
    "\n",
    "# Project the vectors onto the orthonormal matrix\n",
    "p1 = Q.dot(v1)\n",
    "p2 = Q.dot(v2)\n",
    "p3 = Q.dot(v3)\n",
    "\n",
    "# Calculate the L1, L2, and Linf norms of the projected vectors\n",
    "print(\"L1 norm:\")\n",
    "print(np.linalg.norm(p1, ord=1))\n",
    "print(np.linalg.norm(p2, ord=1))\n",
    "print(np.linalg.norm(p3, ord=1))\n",
    "\n",
    "print(\"L2 norm:\")\n",
    "print(np.linalg.norm(p1, ord=2))\n",
    "print(np.linalg.norm(p2, ord=2))\n",
    "print(np.linalg.norm(p3, ord=2))\n",
    "\n",
    "print(\"Linf norm:\")\n",
    "print(np.linalg.norm(p1, ord=np.inf))\n",
    "print(np.linalg.norm(p2, ord=np.inf))\n",
    "print(np.linalg.norm(p3, ord=np.inf))"
   ]
  },
  {
   "cell_type": "code",
   "execution_count": 4,
   "id": "792d77dd",
   "metadata": {},
   "outputs": [
    {
     "data": {
      "image/png": "[encoded data removed]",
      "text/plain": [
       "<Figure size 640x480 with 1 Axes>"
      ]
     },
     "metadata": {},
     "output_type": "display_data"
    }
   ],
   "source": [
    "import numpy as np\n",
    "import matplotlib.pyplot as plt\n",
    "\n",
    "# Define two non-orthogonal vectors\n",
    "v1 = np.array([2, 3])\n",
    "v2 = np.array([1, 4])\n",
    "\n",
    "# Find the projection of v1 onto v2\n",
    "projection = (np.dot(v1, v2) / np.dot(v2, v2)) * v2\n",
    "\n",
    "# Plot the vectors and their projection\n",
    "plt.plot([0, v1[0]], [0, v1[1]], 'b', label='v1')\n",
    "plt.plot([0, v2[0]], [0, v2[1]], 'g', label='v2')\n",
    "plt.plot([0, projection[0]], [0, projection[1]], 'r--', label='Projection of v1 onto v2')\n",
    "plt.legend()\n",
    "plt.axis('square')\n",
    "plt.show()"
   ]
  },
  {
   "cell_type": "code",
   "execution_count": 5,
   "id": "05347f8c",
   "metadata": {},
   "outputs": [
    {
     "name": "stdout",
     "output_type": "stream",
     "text": [
      "The determinant of M is -0.00, which is equal to the area of the triangle spanned by the points: 0.00\n"
     ]
    }
   ],
   "source": [
    "import numpy as np\n",
    "\n",
    "# Define 3 points in 3D space\n",
    "p1 = np.array([1, 2, 3])\n",
    "p2 = np.array([4, 5, 6])\n",
    "p3 = np.array([7, 8, 9])\n",
    "\n",
    "# Create a 3 x 3 matrix using the points as rows\n",
    "M = np.vstack((p1, p2, p3))\n",
    "\n",
    "# Calculate the determinant of M\n",
    "det = np.linalg.det(M)\n",
    "\n",
    "# Calculate the area of the triangle spanned by the points\n",
    "area = 0.5 * np.linalg.norm(np.cross(p2 - p1, p3 - p1))\n",
    "\n",
    "print(f\"The determinant of M is {det:.2f}, which is equal to the area of the triangle spanned by the points: {area:.2f}\")\n"
   ]
  },
  {
   "cell_type": "code",
   "execution_count": 6,
   "id": "3bb8d54b",
   "metadata": {},
   "outputs": [
    {
     "name": "stdout",
     "output_type": "stream",
     "text": [
      "[[1.13043478]\n",
      " [2.30434783]]\n"
     ]
    }
   ],
   "source": [
    "import numpy as np\n",
    "\n",
    "# define the matrices A and B\n",
    "A = np.array([[3, 2], [4, -5]])\n",
    "B = np.array([[8], [-7]])\n",
    "\n",
    "# calculate the inverse of A\n",
    "A_inv = np.linalg.inv(A)\n",
    "\n",
    "# solve for X\n",
    "X = A_inv.dot(B)\n",
    "\n",
    "print(X)"
   ]
  },
  {
   "cell_type": "code",
   "execution_count": 8,
   "id": "fbeb9721",
   "metadata": {},
   "outputs": [],
   "source": [
    "import numpy as np\n",
    "import matplotlib.pyplot as plt\n",
    "\n",
    "# Define vectors in the standard basis\n",
    "v1 = np.array([1, 2])\n",
    "v2 = np.array([3, 1])\n",
    "\n",
    "# Define the new basis vectors\n",
    "u1 = np.array([1, 1])\n",
    "u2 = np.array([-1, 1])\n",
    "\n",
    "# Define the change of basis matrix\n",
    "T = 0.5 * np.array([[1, 1], [-1, 1]])\n",
    "\n",
    "# Transform the vectors to the new basis\n",
    "w1 = T.dot(v1)\n",
    "w2 = T.dot(v2)\n",
    "\n",
    "# Plot the vectors in the standard basis\n",
    "plt.show()"
   ]
  },
  {
   "cell_type": "code",
   "execution_count": 9,
   "id": "07c3f367",
   "metadata": {},
   "outputs": [
    {
     "name": "stdout",
     "output_type": "stream",
     "text": [
      "Eigenvalues of A:  [9.34849393 3.73015912 1.92134694]\n",
      "Eigenvectors of A: \n",
      " [[-0.3650547  -0.77587586  0.5145403 ]\n",
      " [-0.63657455 -0.19527095 -0.74608451]\n",
      " [-0.67934373  0.59990492  0.42261825]]\n",
      "Eigenvalues of B*B^T:  [2.83858587e+02 1.14141342e+00 1.25674717e-14]\n",
      "Eigenvectors of B*B^T: \n",
      " [[-0.21483724 -0.88723069  0.40824829]\n",
      " [-0.52058739 -0.24964395 -0.81649658]\n",
      " [-0.82633754  0.38794278  0.40824829]]\n",
      "New basis vector 1:  [ 5 11]\n",
      "New basis vector 2:  [11 25]\n"
     ]
    },
    {
     "data": {
      "image/png": "[encoded data removed]",
      "text/plain": [
       "<Figure size 640x480 with 1 Axes>"
      ]
     },
     "metadata": {},
     "output_type": "display_data"
    }
   ],
   "source": [
    "import numpy as np\n",
    "from numpy.linalg import inv, det, eig\n",
    "\n",
    "# create a symmetric and a non-symmetric matrix\n",
    "A = np.array([[4, 2, 1], [2, 5, 3], [1, 3, 6]])\n",
    "B = np.array([[1, 2, 3], [4, 5, 6], [7, 8, 9]])\n",
    "\n",
    "# demonstrate the spectral theorem for symmetric matrix\n",
    "eigenvals, eigenvecs = eig(A)\n",
    "print(\"Eigenvalues of A: \", eigenvals)\n",
    "print(\"Eigenvectors of A: \\n\", eigenvecs)\n",
    "\n",
    "# demonstrate the spectral theorem for non-symmetric matrix\n",
    "eigenvals, eigenvecs = eig(B @ B.T)\n",
    "print(\"Eigenvalues of B*B^T: \", eigenvals)\n",
    "print(\"Eigenvectors of B*B^T: \\n\", eigenvecs)\n",
    "\n",
    "# change of basis for 2 vectors\n",
    "v1 = np.array([1, 2])\n",
    "v2 = np.array([3, 4])\n",
    "C = np.array([[1, 2], [3, 4]]) # change of basis matrix\n",
    "v1_new = C @ v1\n",
    "v2_new = C @ v2\n",
    "print(\"New basis vector 1: \", v1_new)\n",
    "print(\"New basis vector 2: \", v2_new)\n",
    "\n",
    "# plot change of basis\n",
    "import matplotlib.pyplot as plt\n",
    "fig, ax = plt.subplots()\n",
    "ax.arrow(0, 0, v1[0], v1[1], head_width=0.2, head_length=0.2, fc='b', ec='b')\n",
    "ax.arrow(0, 0, v2[0], v2[1], head_width=0.2, head_length=0.2, fc='r', ec='r')\n",
    "ax.arrow(0, 0, v1_new[0], v1_new[1], head_width=0.2, head_length=0.2, fc='g', ec='g')\n",
    "ax.arrow(0, 0, v2_new[0], v2_new[1], head_width=0.2, head_length=0.2, fc='y', ec='y')\n",
    "ax.set_xlim([-1, 5])\n",
    "ax.set_ylim([-1, 5])\n",
    "ax.grid(True)\n",
    "plt.show()"
   ]
  },
  {
   "cell_type": "code",
   "execution_count": 10,
   "id": "258e348c",
   "metadata": {},
   "outputs": [
    {
     "data": {
      "image/png": "[encoded data removed]",
      "text/plain": [
       "<Figure size 640x480 with 1 Axes>"
      ]
     },
     "metadata": {},
     "output_type": "display_data"
    },
    {
     "name": "stdout",
     "output_type": "stream",
     "text": [
      "Explained variance ratio of PC1: 0.61\n",
      "Explained variance ratio of PC2: 0.39\n"
     ]
    }
   ],
   "source": [
    "import pandas as pd\n",
    "import seaborn as sns\n",
    "import matplotlib.pyplot as plt\n",
    "from sklearn.decomposition import PCA\n",
    "\n",
    "# read in the red wine quality file\n",
    "df_red = pd.read_csv('winequality-red.csv', delimiter=';')\n",
    "\n",
    "# extract the pH and tartaric acid columns\n",
    "X = df_red[['pH', 'sulphates']]\n",
    "\n",
    "# perform PCA on the data\n",
    "pca = PCA()\n",
    "pca.fit(X)\n",
    "\n",
    "# visualize the dominant principle components\n",
    "sns.scatterplot(x=pca.components_[0], y=pca.components_[1])\n",
    "plt.xlabel('PC1')\n",
    "plt.ylabel('PC2')\n",
    "plt.title('PCA of pH vs sulphates data')\n",
    "plt.show()\n",
    "\n",
    "# discuss the ranking of the principle components\n",
    "print(f'Explained variance ratio of PC1: {pca.explained_variance_ratio_[0]:.2f}')\n",
    "print(f'Explained variance ratio of PC2: {pca.explained_variance_ratio_[1]:.2f}')"
   ]
  },
  {
   "cell_type": "code",
   "execution_count": 13,
   "id": "4fb946f7",
   "metadata": {},
   "outputs": [
    {
     "ename": "KeyError",
     "evalue": "\"None of [Index(['pH', 'chlorides'], dtype='object')] are in the [columns]\"",
     "output_type": "error",
     "traceback": [
      "\u001b[1;31m---------------------------------------------------------------------------\u001b[0m",
      "\u001b[1;31mKeyError\u001b[0m                                  Traceback (most recent call last)",
      "Cell \u001b[1;32mIn[13], line 8\u001b[0m\n\u001b[0;32m      5\u001b[0m data \u001b[38;5;241m=\u001b[39m pd\u001b[38;5;241m.\u001b[39mread_csv(\u001b[38;5;124m'\u001b[39m\u001b[38;5;124mwinequality-red.csv\u001b[39m\u001b[38;5;124m'\u001b[39m)\n\u001b[0;32m      7\u001b[0m \u001b[38;5;66;03m# select the variables for PCA\u001b[39;00m\n\u001b[1;32m----> 8\u001b[0m X \u001b[38;5;241m=\u001b[39m \u001b[43mdata\u001b[49m\u001b[43m[\u001b[49m\u001b[43m[\u001b[49m\u001b[38;5;124;43m'\u001b[39;49m\u001b[38;5;124;43mpH\u001b[39;49m\u001b[38;5;124;43m'\u001b[39;49m\u001b[43m,\u001b[49m\u001b[43m \u001b[49m\u001b[38;5;124;43m'\u001b[39;49m\u001b[38;5;124;43mchlorides\u001b[39;49m\u001b[38;5;124;43m'\u001b[39;49m\u001b[43m]\u001b[49m\u001b[43m]\u001b[49m\n\u001b[0;32m     10\u001b[0m \u001b[38;5;66;03m# perform PCA\u001b[39;00m\n\u001b[0;32m     11\u001b[0m pca \u001b[38;5;241m=\u001b[39m PCA()\n",
      "File \u001b[1;32m~\\anaconda3\\lib\\site-packages\\pandas\\core\\frame.py:3813\u001b[0m, in \u001b[0;36mDataFrame.__getitem__\u001b[1;34m(self, key)\u001b[0m\n\u001b[0;32m   3811\u001b[0m     \u001b[38;5;28;01mif\u001b[39;00m is_iterator(key):\n\u001b[0;32m   3812\u001b[0m         key \u001b[38;5;241m=\u001b[39m \u001b[38;5;28mlist\u001b[39m(key)\n\u001b[1;32m-> 3813\u001b[0m     indexer \u001b[38;5;241m=\u001b[39m \u001b[38;5;28;43mself\u001b[39;49m\u001b[38;5;241;43m.\u001b[39;49m\u001b[43mcolumns\u001b[49m\u001b[38;5;241;43m.\u001b[39;49m\u001b[43m_get_indexer_strict\u001b[49m\u001b[43m(\u001b[49m\u001b[43mkey\u001b[49m\u001b[43m,\u001b[49m\u001b[43m \u001b[49m\u001b[38;5;124;43m\"\u001b[39;49m\u001b[38;5;124;43mcolumns\u001b[39;49m\u001b[38;5;124;43m\"\u001b[39;49m\u001b[43m)\u001b[49m[\u001b[38;5;241m1\u001b[39m]\n\u001b[0;32m   3815\u001b[0m \u001b[38;5;66;03m# take() does not accept boolean indexers\u001b[39;00m\n\u001b[0;32m   3816\u001b[0m \u001b[38;5;28;01mif\u001b[39;00m \u001b[38;5;28mgetattr\u001b[39m(indexer, \u001b[38;5;124m\"\u001b[39m\u001b[38;5;124mdtype\u001b[39m\u001b[38;5;124m\"\u001b[39m, \u001b[38;5;28;01mNone\u001b[39;00m) \u001b[38;5;241m==\u001b[39m \u001b[38;5;28mbool\u001b[39m:\n",
      "File \u001b[1;32m~\\anaconda3\\lib\\site-packages\\pandas\\core\\indexes\\base.py:6070\u001b[0m, in \u001b[0;36mIndex._get_indexer_strict\u001b[1;34m(self, key, axis_name)\u001b[0m\n\u001b[0;32m   6067\u001b[0m \u001b[38;5;28;01melse\u001b[39;00m:\n\u001b[0;32m   6068\u001b[0m     keyarr, indexer, new_indexer \u001b[38;5;241m=\u001b[39m \u001b[38;5;28mself\u001b[39m\u001b[38;5;241m.\u001b[39m_reindex_non_unique(keyarr)\n\u001b[1;32m-> 6070\u001b[0m \u001b[38;5;28;43mself\u001b[39;49m\u001b[38;5;241;43m.\u001b[39;49m\u001b[43m_raise_if_missing\u001b[49m\u001b[43m(\u001b[49m\u001b[43mkeyarr\u001b[49m\u001b[43m,\u001b[49m\u001b[43m \u001b[49m\u001b[43mindexer\u001b[49m\u001b[43m,\u001b[49m\u001b[43m \u001b[49m\u001b[43maxis_name\u001b[49m\u001b[43m)\u001b[49m\n\u001b[0;32m   6072\u001b[0m keyarr \u001b[38;5;241m=\u001b[39m \u001b[38;5;28mself\u001b[39m\u001b[38;5;241m.\u001b[39mtake(indexer)\n\u001b[0;32m   6073\u001b[0m \u001b[38;5;28;01mif\u001b[39;00m \u001b[38;5;28misinstance\u001b[39m(key, Index):\n\u001b[0;32m   6074\u001b[0m     \u001b[38;5;66;03m# GH 42790 - Preserve name from an Index\u001b[39;00m\n",
      "File \u001b[1;32m~\\anaconda3\\lib\\site-packages\\pandas\\core\\indexes\\base.py:6130\u001b[0m, in \u001b[0;36mIndex._raise_if_missing\u001b[1;34m(self, key, indexer, axis_name)\u001b[0m\n\u001b[0;32m   6128\u001b[0m     \u001b[38;5;28;01mif\u001b[39;00m use_interval_msg:\n\u001b[0;32m   6129\u001b[0m         key \u001b[38;5;241m=\u001b[39m \u001b[38;5;28mlist\u001b[39m(key)\n\u001b[1;32m-> 6130\u001b[0m     \u001b[38;5;28;01mraise\u001b[39;00m \u001b[38;5;167;01mKeyError\u001b[39;00m(\u001b[38;5;124mf\u001b[39m\u001b[38;5;124m\"\u001b[39m\u001b[38;5;124mNone of [\u001b[39m\u001b[38;5;132;01m{\u001b[39;00mkey\u001b[38;5;132;01m}\u001b[39;00m\u001b[38;5;124m] are in the [\u001b[39m\u001b[38;5;132;01m{\u001b[39;00maxis_name\u001b[38;5;132;01m}\u001b[39;00m\u001b[38;5;124m]\u001b[39m\u001b[38;5;124m\"\u001b[39m)\n\u001b[0;32m   6132\u001b[0m not_found \u001b[38;5;241m=\u001b[39m \u001b[38;5;28mlist\u001b[39m(ensure_index(key)[missing_mask\u001b[38;5;241m.\u001b[39mnonzero()[\u001b[38;5;241m0\u001b[39m]]\u001b[38;5;241m.\u001b[39munique())\n\u001b[0;32m   6133\u001b[0m \u001b[38;5;28;01mraise\u001b[39;00m \u001b[38;5;167;01mKeyError\u001b[39;00m(\u001b[38;5;124mf\u001b[39m\u001b[38;5;124m\"\u001b[39m\u001b[38;5;132;01m{\u001b[39;00mnot_found\u001b[38;5;132;01m}\u001b[39;00m\u001b[38;5;124m not in index\u001b[39m\u001b[38;5;124m\"\u001b[39m)\n",
      "\u001b[1;31mKeyError\u001b[0m: \"None of [Index(['pH', 'chlorides'], dtype='object')] are in the [columns]\""
     ]
    }
   ],
   "source": [
    "import numpy as np\n",
    "from sklearn.decomposition import PCA\n",
    "\n",
    "# read in the data\n",
    "data = pd.read_csv('winequality-red.csv')\n",
    "\n",
    "# select the variables for PCA\n",
    "X = data[['pH', 'chlorides']]\n",
    "\n",
    "# perform PCA\n",
    "pca = PCA()\n",
    "pca.fit(X)\n",
    "\n",
    "# calculate the percentage of total variance explained by each principal component\n",
    "var_exp = pca.explained_variance_ratio_\n",
    "\n",
    "# create the scree plot\n",
    "import matplotlib.pyplot as plt\n",
    "plt.plot(range(1, len(var_exp)+1), var_exp)\n",
    "plt.xlabel('Principal Component')\n",
    "plt.ylabel('Percentage of Total Variance Explained')\n",
    "plt.show()\n",
    "\n",
    "# choose the number of principal components to keep\n",
    "k = 1\n",
    "\n",
    "# perform low-rank approximation\n",
    "X_approx = np.dot(pca.transform(X)[:, :k], pca.components_[:k, :])\n",
    "\n",
    "# visualize the original data and the low-rank approximation\n",
    "import seaborn as sns\n",
    "sns.scatterplot(data=data, x='pH', y='chlorides')\n",
    "sns.scatterplot(data=X_approx, x=X_approx[:, 0], y=X_approx[:, 1])\n",
    "plt.legend(['Original Data', f'{k}-Rank Approximation'])\n",
    "plt.show()\n",
    "\n",
    "# keep only one principal component (k=1) based on the scree plot"
   ]
  },
  {
   "cell_type": "code",
   "execution_count": null,
   "id": "83854b3e",
   "metadata": {},
   "outputs": [],
   "source": []
  },
  {
   "cell_type": "code",
   "execution_count": null,
   "id": "0abba668",
   "metadata": {},
   "outputs": [],
   "source": []
  }
 ],
 "metadata": {
  "kernelspec": {
   "display_name": "Python 3 (ipykernel)",
   "language": "python",
   "name": "python3"
  },
  "language_info": {
   "codemirror_mode": {
    "name": "ipython",
    "version": 3
   },
   "file_extension": ".py",
   "mimetype": "text/x-python",
   "name": "python",
   "nbconvert_exporter": "python",
   "pygments_lexer": "ipython3",
   "version": "3.10.9"
  }
 },
 "nbformat": 4,
 "nbformat_minor": 5
}
